{
 "cells": [
  {
   "cell_type": "markdown",
   "id": "6901ad39",
   "metadata": {},
   "source": [
    "## KNN(K- Nearest Neighbour) from scratch"
   ]
  },
  {
   "cell_type": "code",
   "execution_count": 8,
   "id": "00065c53",
   "metadata": {},
   "outputs": [],
   "source": [
    "\n",
    "\n",
    "import numpy as np\n",
    "import pandas as pd"
   ]
  },
  {
   "cell_type": "code",
   "execution_count": 37,
   "id": "47649157",
   "metadata": {},
   "outputs": [],
   "source": [
    "# reading data \n",
    "data = pd.read_csv(r'C:\\Users\\anmol wali\\Downloads\\Social_Network_Ads.csv')\n",
    "\n",
    "X=data.iloc[:,2:4].values\n",
    "y=data.iloc[:,-1].values\n",
    "\n",
    "from sklearn.model_selection import train_test_split\n",
    "X_train,X_test,y_train,y_test=train_test_split(X,y,test_size=0.2)\n",
    "\n",
    "from sklearn.preprocessing import StandardScaler\n",
    "scaler=StandardScaler()\n",
    "\n",
    "X_train=scaler.fit_transform(X_train)\n",
    "X_test=scaler.transform(X_test)"
   ]
  },
  {
   "cell_type": "code",
   "execution_count": null,
   "id": "e5d5a655",
   "metadata": {},
   "outputs": [],
   "source": []
  },
  {
   "cell_type": "code",
   "execution_count": 38,
   "id": "82790c0f",
   "metadata": {},
   "outputs": [],
   "source": [
    "import operator\n",
    "from collections import Counter\n",
    "\n",
    "class KNearestNeighbors:\n",
    "    def __init__(self,k):# constructor\n",
    "        self.k=k\n",
    "\n",
    "    def fit(self,X_train,y_train):\n",
    "        self.X_train=X_train\n",
    "        self.y_train=y_train\n",
    "        print(\"Training Done\")\n",
    "\n",
    "    def predict(self,X_test):\n",
    "\n",
    "        distance={}\n",
    "        counter=1\n",
    "\n",
    "        for i in self.X_train:\n",
    "            # Finding euclidean distance \n",
    "            distance[counter]=((X_test[0][0]-i[0])**2 + (X_test[0][1]-i[1])**2)**1/2\n",
    "            counter=counter+1\n",
    "        # sorting distance by assending order in dictionary\n",
    "        distance=sorted(distance.items(), key=operator.itemgetter(1))\n",
    "\n",
    "        return self.classify(distance=distance[:self.k])\n",
    "\n",
    "    def classify(self,distance):\n",
    "        label=[]\n",
    "        # highest vote as the label\n",
    "        for i in distance:\n",
    "            label.append(self.y_train[i[0]])\n",
    "        return Counter(label).most_common()[0][0]"
   ]
  },
  {
   "cell_type": "code",
   "execution_count": null,
   "id": "5a0cf308",
   "metadata": {},
   "outputs": [],
   "source": []
  },
  {
   "cell_type": "code",
   "execution_count": 41,
   "id": "edbc2664",
   "metadata": {},
   "outputs": [
    {
     "name": "stdout",
     "output_type": "stream",
     "text": [
      "Training Done\n",
      "Enter the age25\n",
      "Enter the salary8000\n",
      "Counter({0: 3, 1: 2})\n",
      "0\n",
      "Will not purchase\n"
     ]
    }
   ],
   "source": [
    "\n",
    "\n",
    "\n",
    "\n",
    "# An object of KNN\n",
    "knn=KNearestNeighbors(k=5)\n",
    "\n",
    "knn.fit(X_train,y_train)\n",
    "\n",
    "def predict_new():\n",
    "    age=int(input(\"Enter the age\"))\n",
    "    salary=int(input(\"Enter the salary\"))\n",
    "    X_new=np.array([[age],[salary]]).reshape(1,2)\n",
    "\n",
    "    X_new=scaler.transform(X_new)\n",
    "\n",
    "    result=knn.predict(X_new)\n",
    "    print(result)\n",
    "\n",
    "    if result==0:\n",
    "        print(\"Will not purchase\")\n",
    "    elif result==1:\n",
    "        print(\"Will purchase\")\n",
    "\n",
    "predict_new()"
   ]
  },
  {
   "cell_type": "code",
   "execution_count": null,
   "id": "183627d4",
   "metadata": {},
   "outputs": [],
   "source": []
  }
 ],
 "metadata": {
  "kernelspec": {
   "display_name": "Python 3 (ipykernel)",
   "language": "python",
   "name": "python3"
  },
  "language_info": {
   "codemirror_mode": {
    "name": "ipython",
    "version": 3
   },
   "file_extension": ".py",
   "mimetype": "text/x-python",
   "name": "python",
   "nbconvert_exporter": "python",
   "pygments_lexer": "ipython3",
   "version": "3.9.7"
  }
 },
 "nbformat": 4,
 "nbformat_minor": 5
}
